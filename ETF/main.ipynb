{
 "cells": [
  {
   "cell_type": "code",
   "execution_count": 2,
   "metadata": {},
   "outputs": [],
   "source": [
    "import pandas as pd"
   ]
  },
  {
   "cell_type": "code",
   "execution_count": 3,
   "metadata": {},
   "outputs": [],
   "source": [
    "commondities_df=pd.read_csv('commondities.csv')\n",
    "bonds_df=pd.read_csv('bonds.csv')\n",
    "real_estate_df=pd.read_csv('real_estate.csv')\n",
    "equities_df=pd.read_csv('equities.csv')\n"
   ]
  },
  {
   "cell_type": "markdown",
   "metadata": {},
   "source": [
    "The data is created from morningstar,yahoofinance, and main page of the below investigated ETFs in July 2022.\n",
    "\n",
    "The criteria to choose a suitable ETF is as follows:\n",
    "1. Sharpe ratio (as high as possible)\n",
    "2. Commission fee (as low as possible)\n",
    "3. Volume and bid-ask spread (avoid inliquidate ETFs)\n",
    "4. 12-Month yeild (as high as possible)\n",
    "5. Morningstar ratings"
   ]
  },
  {
   "cell_type": "code",
   "execution_count": 4,
   "metadata": {},
   "outputs": [],
   "source": [
    "chosen_commodity_ETF=commondities_df.loc[commondities_df['ETF']=='PDBC']\n",
    "chosen_bond_ETF=bonds_df.loc[bonds_df['ETF']=='VCIT']\n",
    "chosen_real_estate_ETF=real_estate_df.loc[real_estate_df['ETF']=='XLRE']\n",
    "chosen_equity_ETF=equities_df.loc[equities_df['ETF']=='VOO']\n",
    "\n",
    "#print(chosen_commodity_ETF)"
   ]
  },
  {
   "cell_type": "code",
   "execution_count": 6,
   "metadata": {},
   "outputs": [
    {
     "name": "stdout",
     "output_type": "stream",
     "text": [
      "    ETF Spread  Avg Vol 12-Month Yield Expense Ratio 5-year monthly return  \\\n",
      "0   VOO  0.03%  5.7 Mil          1.46%        0.030%              +52.06%    \n",
      "4  PDBC  4.41%  6.7 Mil         39.64%        0.620%                   NaN   \n",
      "4  XLRE  1.33%  8.7 Mil          2.80%        0.100%              +21.94%    \n",
      "0  VCIT  6.43%  7.4 Mil          2.51%        0.040%               -9.67%    \n",
      "\n",
      "   5-year Sharpe ratio  Morningstar Rating Percentage  \n",
      "0                 0.78                   5        50%  \n",
      "4                 0.71                   5        30%  \n",
      "4                 0.62                   5        10%  \n",
      "0                 0.17                   4        10%  \n"
     ]
    }
   ],
   "source": [
    "chosen_ETFs=pd.concat([chosen_equity_ETF,chosen_commodity_ETF,chosen_real_estate_ETF,chosen_bond_ETF])\n",
    "chosen_ETFs['Percentage']=['50%','30%','10%','10%']\n",
    "print(chosen_ETFs)\n"
   ]
  }
 ],
 "metadata": {
  "kernelspec": {
   "display_name": "Python 3.8.10 64-bit",
   "language": "python",
   "name": "python3"
  },
  "language_info": {
   "codemirror_mode": {
    "name": "ipython",
    "version": 3
   },
   "file_extension": ".py",
   "mimetype": "text/x-python",
   "name": "python",
   "nbconvert_exporter": "python",
   "pygments_lexer": "ipython3",
   "version": "3.8.10"
  },
  "orig_nbformat": 4,
  "vscode": {
   "interpreter": {
    "hash": "916dbcbb3f70747c44a77c7bcd40155683ae19c65e1c03b4aa3499c5328201f1"
   }
  }
 },
 "nbformat": 4,
 "nbformat_minor": 2
}
